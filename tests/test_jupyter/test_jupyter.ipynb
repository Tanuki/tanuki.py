{
 "cells": [
  {
   "cell_type": "code",
   "execution_count": null,
   "outputs": [],
   "source": [
    "!pip install tanuki.py\n"
   ],
   "metadata": {
    "collapsed": false,
    "pycharm": {
     "name": "#%%\n"
    }
   }
  },
  {
   "cell_type": "code",
   "execution_count": null,
   "metadata": {
    "collapsed": true
   },
   "outputs": [],
   "source": [
    "import os\n",
    "from typing import Optional, Literal\n",
    "\n",
    "import openai\n",
    "from dotenv import load_dotenv\n",
    "\n",
    "import tanuki\n",
    "\n",
    "load_dotenv()\n",
    "openai.api_key = os.getenv(\"OPENAI_API_KEY\")\n",
    "\n",
    "@tanuki.patch\n",
    "def classify_sentiment_2(input: str, input_2: str) -> Optional[Literal['Good', 'Bad']]:\n",
    "    \"\"\"\n",
    "    Determine if the inputs are positive or negative sentiment, or None\n",
    "    \"\"\"\n",
    "\n",
    "\n",
    "@tanuki.patch\n",
    "def classify_sentiment(input: str) -> Optional[Literal['Good', 'Bad']]:\n",
    "    \"\"\"\n",
    "    Determine if the input is positive or negative sentiment\n",
    "    \"\"\"\n",
    "\n",
    "@tanuki.align\n",
    "def test_classify_sentiment():\n",
    "    \"\"\"We can test the function as normal using Pytest or Unittest\"\"\"\n",
    "\n",
    "    i_love_you = \"I love you\"\n",
    "    print(classify_sentiment_2(i_love_you, \"I love woo\"))\n",
    "    assert classify_sentiment_2(i_love_you, \"I love woo\") == 'Good'\n",
    "\n",
    "    print(classify_sentiment(\"I love you\"))\n",
    "    assert classify_sentiment(\"I love you\") == 'Good'\n",
    "\n",
    "    assert classify_sentiment(\"I hate you\") == 'Bad'\n",
    "    assert classify_sentiment(\"I hate you\") != 'Good'\n",
    "    assert not classify_sentiment(\"Wednesdays are in the middle of the week\")"
   ]
  }
 ],
 "metadata": {
  "kernelspec": {
   "display_name": "Python 3",
   "language": "python",
   "name": "python3"
  },
  "language_info": {
   "codemirror_mode": {
    "name": "ipython",
    "version": 2
   },
   "file_extension": ".py",
   "mimetype": "text/x-python",
   "name": "python",
   "nbconvert_exporter": "python",
   "pygments_lexer": "ipython2",
   "version": "2.7.6"
  }
 },
 "nbformat": 4,
 "nbformat_minor": 0
}