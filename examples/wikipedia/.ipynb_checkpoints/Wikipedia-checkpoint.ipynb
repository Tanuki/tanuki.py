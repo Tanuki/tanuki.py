{
 "cells": [
  {
   "cell_type": "markdown",
   "id": "8cdebbd9",
   "metadata": {},
   "source": [
    "## Configure notebook environment"
   ]
  },
  {
   "cell_type": "markdown",
   "id": "b6f0a284",
   "metadata": {},
   "source": [
    "Create a virtual environment and install packages\n",
    "```\n",
    "python3 -m venv .venv\n",
    "pip install -r requirements.txt\n",
    "```\n",
    "\n",
    "Configure jupyter notebook for venv\n",
    "```\n",
    "python3 -m ipykernel install --user --name=.venv\n",
    "```\n",
    "\n",
    "Lastly, in `Kernel` tab above, select \"Change Kernel\" and then \".venv\""
   ]
  },
  {
   "cell_type": "markdown",
   "id": "ae1114db",
   "metadata": {},
   "source": [
    "## Imports"
   ]
  },
  {
   "cell_type": "code",
   "execution_count": 2,
   "id": "228ac81f",
   "metadata": {},
   "outputs": [],
   "source": [
    "import openai\n",
    "import os\n",
    "from pydantic import BaseModel\n",
    "import sys\n",
    "import wikipedia\n",
    "\n",
    "sys.path.append(\"../../src\")\n",
    "from monkey_patch.monkey import Monkey as monkey\n",
    "\n",
    "from dotenv import load_dotenv\n",
    "load_dotenv()\n",
    "openai.api_key = os.getenv(\"OPENAI_API_KEY\")  # Make sure to set this in your .env file!"
   ]
  },
  {
   "cell_type": "markdown",
   "id": "81e334a1",
   "metadata": {},
   "source": [
    "## Monkey Patch"
   ]
  },
  {
   "cell_type": "code",
   "execution_count": 3,
   "id": "ca603ee0",
   "metadata": {},
   "outputs": [],
   "source": [
    "@monkey.patch\n",
    "def explain_simple(summary: str) -> str:\n",
    "    \"\"\"Explain the summary in simple terms.\"\"\""
   ]
  },
  {
   "cell_type": "code",
   "execution_count": 4,
   "id": "a29710d4",
   "metadata": {},
   "outputs": [],
   "source": [
    "def ask_wikipedia(topic: str) -> str:\n",
    "    summary = wikipedia.summary(topic)\n",
    "    return explain_simple(summary)"
   ]
  },
  {
   "cell_type": "markdown",
   "id": "dc1297ae",
   "metadata": {},
   "source": [
    "## Example"
   ]
  },
  {
   "cell_type": "code",
   "execution_count": 5,
   "id": "6bde9e07",
   "metadata": {},
   "outputs": [],
   "source": [
    "topic = \"Nuclear fission\""
   ]
  },
  {
   "cell_type": "code",
   "execution_count": 6,
   "id": "73e08639",
   "metadata": {},
   "outputs": [
    {
     "data": {
      "text/plain": [
       "'Nuclear fusion is a reaction in which two or more atomic nuclei, usually deuterium and tritium (hydrogen variants), combine to form one or more different atomic nuclei and subatomic particles (neutrons or protons). The difference in mass between the reactants and products is manifested as either the release or absorption of energy. This difference in mass arises due to the difference in nuclear binding energy between the atomic nuclei before and after the reaction. Nuclear fusion is the process that powers active or main-sequence stars and other high-magnitude stars, where large amounts of energy are released.\\nA nuclear fusion process that produces atomic nuclei lighter than iron-56 or nickel-62 will generally release energy. These elements have a relatively small mass and a relatively large binding energy per nucleon. Fusion of nuclei lighter than these releases energy (an exothermic process), while the fusion of heavier nuclei results in energy retained by the product nucleons, and the resulting reaction is endothermic. The opposite is true for the reverse process, called nuclear fission. Nuclear fusion uses lighter elements, such as hydrogen and helium, which are in general more fusible; while the heavier elements, such as uranium, thorium and plutonium, are more fissionable. The extreme astrophysical event of a supernova can produce enough energy to fuse nuclei into elements heavier than iron.\\n\\n'"
      ]
     },
     "execution_count": 6,
     "metadata": {},
     "output_type": "execute_result"
    }
   ],
   "source": [
    "# Summary from wikipedia page\n",
    "wikipedia.summary(topic)"
   ]
  },
  {
   "cell_type": "code",
   "execution_count": 8,
   "id": "1972f8ed",
   "metadata": {},
   "outputs": [
    {
     "name": "stdout",
     "output_type": "stream",
     "text": [
      "Nuclear fusion is like a big energy-making process where tiny particles called atomic nuclei come together to form different particles. This usually happens with two types of hydrogen called deuterium and tritium. When these particles come together, they can either give off energy or absorb it, depending on their mass. This is the same process that powers stars, where a lot of energy is given off. If the particles are lighter than iron-56 or nickel-62, the process will usually give off energy. But if they're heavier, the process will absorb energy. This is the opposite of another process called nuclear fission, which uses heavier elements like uranium, thorium, and plutonium. In a big event like a supernova, there's enough energy to make particles heavier than iron come together.\n"
     ]
    }
   ],
   "source": [
    "# Monkey patch processing\n",
    "mp = ask_wikipedia(topic)\n",
    "print (mp)"
   ]
  },
  {
   "cell_type": "code",
   "execution_count": null,
   "id": "5d9cbb08",
   "metadata": {},
   "outputs": [],
   "source": []
  }
 ],
 "metadata": {
  "kernelspec": {
   "display_name": ".venv",
   "language": "python",
   "name": ".venv"
  },
  "language_info": {
   "codemirror_mode": {
    "name": "ipython",
    "version": 3
   },
   "file_extension": ".py",
   "mimetype": "text/x-python",
   "name": "python",
   "nbconvert_exporter": "python",
   "pygments_lexer": "ipython3",
   "version": "3.11.4"
  }
 },
 "nbformat": 4,
 "nbformat_minor": 5
}
